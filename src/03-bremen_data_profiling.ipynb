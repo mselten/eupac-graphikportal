{
 "cells": [
  {
   "cell_type": "markdown",
   "metadata": {},
   "source": [
    "<h3>Use ydata-profiling to generate report on the data</h3>"
   ]
  },
  {
   "cell_type": "code",
   "execution_count": 1,
   "metadata": {},
   "outputs": [
    {
     "name": "stderr",
     "output_type": "stream",
     "text": [
      "/opt/miniconda3/envs/graphikportal/lib/python3.12/site-packages/tqdm/auto.py:21: TqdmWarning: IProgress not found. Please update jupyter and ipywidgets. See https://ipywidgets.readthedocs.io/en/stable/user_install.html\n",
      "  from .autonotebook import tqdm as notebook_tqdm\n"
     ]
    },
    {
     "data": {
      "text/html": [
       "\n",
       "            <div>\n",
       "                <ins><a href=\"https://ydata.ai/register\">Upgrade to ydata-sdk</a></ins>\n",
       "                <p>\n",
       "                    Improve your data and profiling with ydata-sdk, featuring data quality scoring, redundancy detection, outlier identification, text validation, and synthetic data generation.\n",
       "                </p>\n",
       "            </div>\n",
       "            "
      ],
      "text/plain": [
       "<IPython.core.display.HTML object>"
      ]
     },
     "metadata": {},
     "output_type": "display_data"
    }
   ],
   "source": [
    "# Make sure to have ydata_profiling package installed, python version 3.13.0 is not supported\n",
    "#!pip install ydata-profiling\n",
    "# Probably also need to run if you get a ModuleNotFoundError\n",
    "# !pip install --upgrade setuptools\n",
    "\n",
    "import pandas as pd\n",
    "from ydata_profiling import ProfileReport\n",
    "\n",
    "df = pd.read_csv(\"../output_csv/bremen_output.csv\")"
   ]
  },
  {
   "cell_type": "code",
   "execution_count": 2,
   "metadata": {},
   "outputs": [
    {
     "name": "stderr",
     "output_type": "stream",
     "text": [
      "100%|██████████| 25/25 [00:01<00:00, 13.38it/s]2<00:00,  6.00it/s, Describe variable: relatedWorkNotes]    \n",
      "Summarize dataset: 100%|██████████| 44/44 [00:03<00:00, 12.69it/s, Completed]                          \n",
      "Generate report structure: 100%|██████████| 1/1 [00:04<00:00,  4.67s/it]\n",
      "Render HTML: 100%|██████████| 1/1 [00:00<00:00,  2.02it/s]\n",
      "Export report to file: 100%|██████████| 1/1 [00:00<00:00, 182.68it/s]\n"
     ]
    }
   ],
   "source": [
    "profile = ProfileReport(df, title=\"Bremen Data Profiling Report\")\n",
    "profile.to_file(\"../output_csv/bremen_data_profiling_report.html\")"
   ]
  }
 ],
 "metadata": {
  "kernelspec": {
   "display_name": "graphikportal",
   "language": "python",
   "name": "python3"
  },
  "language_info": {
   "codemirror_mode": {
    "name": "ipython",
    "version": 3
   },
   "file_extension": ".py",
   "mimetype": "text/x-python",
   "name": "python",
   "nbconvert_exporter": "python",
   "pygments_lexer": "ipython3",
   "version": "3.12.3"
  }
 },
 "nbformat": 4,
 "nbformat_minor": 2
}
